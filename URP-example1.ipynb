{
 "cells": [
  {
   "cell_type": "markdown",
   "metadata": {},
   "source": [
    "# Black-Scholes formulas\n",
    "## urp project pages\n",
    "\n",
    "$e^{1+t} \\int_{0}^{\\infty}$"
   ]
  },
  {
   "cell_type": "code",
   "execution_count": 3,
   "metadata": {},
   "outputs": [
    {
     "name": "stdout",
     "output_type": "stream",
     "text": [
      "8.916035060662303\n"
     ]
    }
   ],
   "source": [
    "from math import *\n",
    "# Cumulative normal distribution\n",
    "\n",
    "def CND(X):\n",
    "\n",
    "    (a1,a2,a3,a4,a5) = (0.31938153, -0.356563782, 1.781477937, \n",
    "\n",
    "     -1.821255978, 1.330274429)\n",
    "    L = abs(X)\n",
    "\n",
    "    K = 1.0 / (1.0 + 0.2316419 * L)\n",
    "\n",
    "    w = 1.0 - 1.0 / sqrt(2*pi)*exp(-L*L/2.) * (a1*K + a2*K*K + a3*pow(K,3) +\n",
    "\n",
    "    a4*pow(K,4) + a5*pow(K,5))\n",
    "    if X<0:\n",
    "\n",
    "        w = 1.0-w\n",
    "\n",
    "    return w\n",
    "# Black Sholes Function\n",
    "\n",
    "def BlackSholes(CallPutFlag,S,X,T,r,v):\n",
    "\n",
    "    d1 = (log(S/X)+(r+v*v/2.)*T)/(v*sqrt(T))\n",
    "\n",
    "    d2 = d1-v*sqrt(T)\n",
    "    if CallPutFlag=='c':\n",
    "\n",
    "        return S*CND(d1)-X*exp(-r*T)*CND(d2)\n",
    "\n",
    "    else:\n",
    "\n",
    "        return X*exp(-r*T)*CND(-d2)-S*CND(-d1)\n",
    "    \n",
    "call = BlackSholes('c',100,100,1,0.02,0.2)\n",
    "\n",
    "print (call)"
   ]
  },
  {
   "cell_type": "code",
   "execution_count": null,
   "metadata": {
    "collapsed": true
   },
   "outputs": [],
   "source": []
  }
 ],
 "metadata": {
  "kernelspec": {
   "display_name": "Python 3",
   "language": "python",
   "name": "python3"
  },
  "language_info": {
   "codemirror_mode": {
    "name": "ipython",
    "version": 3
   },
   "file_extension": ".py",
   "mimetype": "text/x-python",
   "name": "python",
   "nbconvert_exporter": "python",
   "pygments_lexer": "ipython3",
   "version": "3.6.1"
  }
 },
 "nbformat": 4,
 "nbformat_minor": 2
}
